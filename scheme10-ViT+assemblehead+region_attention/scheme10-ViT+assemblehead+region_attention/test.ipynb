{
 "cells": [
  {
   "cell_type": "code",
   "execution_count": null,
   "outputs": [],
   "source": [
    "import torch\n",
    "from torch import nn\n",
    "a = torch.rand(30,256,14,14)\n",
    "conv = nn.Conv2d(in_channels=256,out_channels=16,kernel_size=3,stride=2,padding=1)\n",
    "b = conv(a)\n",
    "b = b.reshape(30,16,49).permute(0,2,1)\n",
    "b = b.reshape(30,784).unsqueeze(0)\n",
    "print(b.shape)\n",
    "\n"
   ],
   "metadata": {
    "collapsed": false,
    "pycharm": {
     "name": "#%%\n"
    }
   }
  },
  {
   "cell_type": "code",
   "execution_count": null,
   "outputs": [],
   "source": [
    "import torch\n",
    "from torch import nn\n",
    "a = torch.rand(1,30,784)\n",
    "\n",
    "class region_attention(nn.Module):\n",
    "    def __init__(self,num_heads,dim,qkv_bias,out_dim):\n",
    "        super(region_attention,self).__init__()\n",
    "        self.num_heads = num_heads\n",
    "        head_dim = dim // num_heads\n",
    "        self.scale = head_dim**-0.5\n",
    "\n",
    "        \n",
    "        self.qkv = nn.Linear(dim, dim * 3, bias=qkv_bias)\n",
    "        self.proj = nn.Linear(dim, out_dim)\n",
    "\n",
    "\n",
    "    def forward(self,x):\n",
    "        B, seq_len, _ = x.shape\n",
    "        qkv = self.qkv(x).reshape(B, seq_len, 3, self.num_heads, -1).permute(2, 0, 3, 1, 4) # [3,B,self.num_heads,seq_len,head_dim]\n",
    "        q, k, v = qkv.reshape(3, B * self.num_heads, seq_len, -1).unbind(0)\n",
    "        attn = (q * self.scale) @ k.transpose(-2, -1)\n",
    "        attn = attn.softmax(dim=-1)\n",
    "        x = (attn @ v).view(B, self.num_heads, seq_len, -1).permute(0, 2, 1, 3).reshape(B, seq_len, -1)\n",
    "        x = self.proj(x)\n",
    "\n",
    "        return x\n",
    "\n",
    "self_attn = region_attention(8,784,True,256)\n",
    "b = self_attn(a)\n",
    "\n",
    "\n",
    "b = b.squeeze(0).unsqueeze(1)\n",
    "\n",
    "print(b.shape)"
   ],
   "metadata": {
    "collapsed": false,
    "pycharm": {
     "name": "#%%\n"
    }
   }
  },
  {
   "cell_type": "code",
   "execution_count": 26,
   "metadata": {},
   "outputs": [
    {
     "name": "stdout",
     "output_type": "stream",
     "text": [
      "torch.Size([62, 1, 256])\n"
     ]
    }
   ],
   "source": [
    "import torch\n",
    "outputs = [torch.rand(20,1,256),torch.rand(30,1,256),torch.rand(12,1,256)]\n",
    "print(torch.cat(outputs).shape)"
   ]
  },
  {
   "attachments": {},
   "cell_type": "markdown",
   "metadata": {},
   "source": [
    "# region attention"
   ]
  },
  {
   "cell_type": "code",
   "execution_count": 25,
   "metadata": {},
   "outputs": [
    {
     "name": "stdout",
     "output_type": "stream",
     "text": [
      "torch.Size([50, 1, 256])\n"
     ]
    }
   ],
   "source": [
    "from timm.models.layers import Mlp\n",
    "class region_attention(nn.Module):\n",
    "    def __init__(self,num_heads=8,dim=784,qkv_bias=True,out_dim=256,mlp_ratio=2):\n",
    "        super(region_attention,self).__init__()\n",
    "        self.num_heads = num_heads\n",
    "        head_dim = dim // num_heads\n",
    "        self.scale = head_dim**-0.5\n",
    "\n",
    "        self.conv = nn.Conv2d(in_channels=256,out_channels=16,kernel_size=3,stride=2,padding=1)\n",
    "        self.qkv = nn.Linear(dim, dim * 3, bias=qkv_bias)\n",
    "        self.proj = nn.Linear(dim, out_dim)\n",
    "        self.norm1 = nn.LayerNorm(out_dim)\n",
    "        self.mlp = Mlp(in_features=out_dim, hidden_features=int(dim * mlp_ratio), act_layer=nn.GELU)\n",
    "\n",
    "    def forward(self,in_feature):\n",
    "        x = self.conv(in_feature)\n",
    "        N_region,channels,H,W = x.shape\n",
    "        x = x.reshape(N_region,channels,H*W).permute(0,2,1)\n",
    "        x = x.reshape(N_region,H*W*channels).unsqueeze(0)\n",
    "\n",
    "        shortcut = x\n",
    "        B, seq_len, _ = x.shape\n",
    "        qkv = self.qkv(x).reshape(B, seq_len, 3, self.num_heads, -1).permute(2, 0, 3, 1, 4) # [3,B,self.num_heads,seq_len,head_dim]\n",
    "        q, k, v = qkv.reshape(3, B * self.num_heads, seq_len, -1).unbind(0)\n",
    "        attn = (q * self.scale) @ k.transpose(-2, -1)\n",
    "        attn = attn.softmax(dim=-1)\n",
    "        x = (attn @ v).view(B, self.num_heads, seq_len, -1).permute(0, 2, 1, 3).reshape(B, seq_len, -1)\n",
    "        x = shortcut + x\n",
    "        x = self.norm1(self.proj(x))\n",
    "        x = x + self.mlp(x)\n",
    "\n",
    "        return x.squeeze(0).unsqueeze(1)\n",
    "    \n",
    "in_feature = torch.rand(50,256,14,14)\n",
    "self_attn = region_attention()\n",
    "out_feature = self_attn(in_feature)\n",
    "print(out_feature.shape)"
   ]
  }
 ],
 "metadata": {
  "kernelspec": {
   "display_name": "pytorch",
   "language": "python",
   "name": "python3"
  },
  "language_info": {
   "codemirror_mode": {
    "name": "ipython",
    "version": 3
   },
   "file_extension": ".py",
   "mimetype": "text/x-python",
   "name": "python",
   "nbconvert_exporter": "python",
   "pygments_lexer": "ipython3",
   "version": "3.7.13"
  },
  "orig_nbformat": 4
 },
 "nbformat": 4,
 "nbformat_minor": 2
}